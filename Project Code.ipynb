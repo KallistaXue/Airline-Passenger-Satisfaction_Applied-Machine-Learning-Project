{
 "cells": [
  {
   "cell_type": "markdown",
   "id": "6926e859",
   "metadata": {},
   "source": [
    "# COMS 4995 AML Group Project \n",
    "   \n",
    "  \n",
    "## Topic: Airline Passenger Satisfaction  \n",
    "  \n",
    "  \n",
    "**Group 2 Members:**  \n",
    "\n",
    "**Anqi Xue, ax2170  \n",
    "Tanisha Aggrawal, ta2709  \n",
    "Vishal Bhardwaj, vb2573**"
   ]
  },
  {
   "cell_type": "markdown",
   "id": "757538c5",
   "metadata": {},
   "source": [
    "## The Dataset\n",
    "\n",
    "\n",
    "### Description\n",
    "\n",
    "This data set contains details of an airline passenger satisfaction survey and the target variable is a binary variable reflecting the airline satisfaction level (satisfied, neutral or dissatisfied) of a passenger."
   ]
  },
  {
   "cell_type": "code",
   "execution_count": null,
   "id": "bd264fa0",
   "metadata": {},
   "outputs": [],
   "source": [
    "import numpy as np\n",
    "import pandas as pd\n",
    "import matplotlib.pyplot as plt\n",
    "import seaborn as sns\n",
    "import time\n",
    "from sklearn.model_selection import train_test_split\n",
    "# from category_encoders import TargetEncoder\n",
    "from sklearn.preprocessing import StandardScaler\n",
    "from sklearn.preprocessing import OneHotEncoder, OrdinalEncoder\n",
    "from sklearn.compose import make_column_transformer\n",
    "from sklearn.metrics import precision_score, recall_score, f1_score, accuracy_score, roc_curve, roc_auc_score\n",
    "from sklearn.metrics import confusion_matrix, ConfusionMatrixDisplay, classification_report\n",
    "from sklearn.model_selection import GridSearchCV\n",
    "\n",
    "%matplotlib inline"
   ]
  }
 ],
 "metadata": {
  "kernelspec": {
   "display_name": "Python 3 (ipykernel)",
   "language": "python",
   "name": "python3"
  },
  "language_info": {
   "codemirror_mode": {
    "name": "ipython",
    "version": 3
   },
   "file_extension": ".py",
   "mimetype": "text/x-python",
   "name": "python",
   "nbconvert_exporter": "python",
   "pygments_lexer": "ipython3",
   "version": "3.9.12"
  }
 },
 "nbformat": 4,
 "nbformat_minor": 5
}
